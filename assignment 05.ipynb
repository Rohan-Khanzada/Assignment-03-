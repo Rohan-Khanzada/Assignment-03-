{
 "cells": [
  {
   "cell_type": "markdown",
   "id": "6e2f2c82-1b76-4ee9-9351-1972d40d790a",
   "metadata": {},
   "source": [
    "### 1. Write a Python program to print the numbers from 1 to 10 using a for loop.\n"
   ]
  },
  {
   "cell_type": "code",
   "execution_count": 1,
   "id": "9fca3a7b-02a0-43f0-8e5a-c975fc60d091",
   "metadata": {},
   "outputs": [
    {
     "name": "stdout",
     "output_type": "stream",
     "text": [
      "1\n",
      "2\n",
      "3\n",
      "4\n",
      "5\n",
      "6\n",
      "7\n",
      "8\n",
      "9\n",
      "10\n"
     ]
    }
   ],
   "source": [
    "i = 1\n",
    "while i <= 10:\n",
    "    print(i)\n",
    "    i +=1"
   ]
  },
  {
   "cell_type": "markdown",
   "id": "179a285b-9b37-4023-994d-859a030b918f",
   "metadata": {},
   "source": [
    "### 2. Write a Python program to print the numbers from 20 to 1 using a while loop\n"
   ]
  },
  {
   "cell_type": "code",
   "execution_count": 2,
   "id": "ac69fc3d-5f13-4996-9781-d9a8b357e701",
   "metadata": {},
   "outputs": [
    {
     "name": "stdout",
     "output_type": "stream",
     "text": [
      "20\n",
      "19\n",
      "18\n",
      "17\n",
      "16\n",
      "15\n",
      "14\n",
      "13\n",
      "12\n",
      "11\n",
      "10\n",
      "9\n",
      "8\n",
      "7\n",
      "6\n",
      "5\n",
      "4\n",
      "3\n",
      "2\n",
      "1\n"
     ]
    }
   ],
   "source": [
    "i = 20\n",
    "while i >= 1:\n",
    "    print(i)\n",
    "    i -= 1"
   ]
  },
  {
   "cell_type": "markdown",
   "id": "a2579aad-7a0b-4bba-acbd-44e20b4072c3",
   "metadata": {},
   "source": [
    "### 3. Write a program to print even numbers from 1 to 10.\n"
   ]
  },
  {
   "cell_type": "code",
   "execution_count": 3,
   "id": "bdbb1e16-c70b-455f-a769-4f4bfa48fcbc",
   "metadata": {},
   "outputs": [
    {
     "name": "stdout",
     "output_type": "stream",
     "text": [
      "2\n",
      "4\n",
      "6\n",
      "8\n",
      "10\n"
     ]
    }
   ],
   "source": [
    "for i in range(1, 11):\n",
    "    if i % 2 == 0:\n",
    "        print(i)"
   ]
  },
  {
   "cell_type": "markdown",
   "id": "2b29878d-5550-4944-adf0-f5989a0c92c2",
   "metadata": {},
   "source": [
    "### 4. Write a program that prompts the user to enter a number n and prints all the numbers from 1 to n.\n"
   ]
  },
  {
   "cell_type": "code",
   "execution_count": 5,
   "id": "f9900f42-3459-4094-8fd1-68f8264fff87",
   "metadata": {},
   "outputs": [
    {
     "name": "stdin",
     "output_type": "stream",
     "text": [
      "Enter the number:  4\n"
     ]
    },
    {
     "name": "stdout",
     "output_type": "stream",
     "text": [
      "1\n",
      "2\n",
      "3\n",
      "4\n"
     ]
    }
   ],
   "source": [
    "n = int(input(\"Enter the number: \"))\n",
    "for i in range(1, n+1):\n",
    "    print(i)"
   ]
  },
  {
   "cell_type": "markdown",
   "id": "087bd87b-c993-4227-9c2d-54613a10b29e",
   "metadata": {},
   "source": [
    "### 5. Write a program that prompts the user to enter a number n, and then prints all the odd numbers between 1 and n.\n"
   ]
  },
  {
   "cell_type": "code",
   "execution_count": 6,
   "id": "e1c171b2-77d4-42cd-bd75-c56ed742d7df",
   "metadata": {},
   "outputs": [
    {
     "name": "stdin",
     "output_type": "stream",
     "text": [
      "Enter any number:  10\n"
     ]
    },
    {
     "name": "stdout",
     "output_type": "stream",
     "text": [
      "1\n",
      "3\n",
      "5\n",
      "7\n",
      "9\n"
     ]
    }
   ],
   "source": [
    "n = int(input(\"Enter any number: \"))\n",
    "for i in range(1, n+1):\n",
    "    if i % 2 != 0:\n",
    "        print(i) "
   ]
  },
  {
   "cell_type": "markdown",
   "id": "fb585efb-afb8-4538-ba9f-21cc73bc001a",
   "metadata": {},
   "source": [
    "### 6. Write a program that prints 'Happy Birthday!' five times on screen.\n"
   ]
  },
  {
   "cell_type": "code",
   "execution_count": 7,
   "id": "cd6be8a0-814e-4602-9a4e-b82697a2b7d4",
   "metadata": {},
   "outputs": [
    {
     "name": "stdout",
     "output_type": "stream",
     "text": [
      "Happy Birthday\n",
      "Happy Birthday\n",
      "Happy Birthday\n",
      "Happy Birthday\n",
      "Happy Birthday\n",
      "Happy Birthday\n"
     ]
    }
   ],
   "source": [
    "for i in range(6):\n",
    "    print(\"Happy Birthday\")"
   ]
  },
  {
   "cell_type": "markdown",
   "id": "408198fc-b0a8-45b7-82db-1683c38b9ae4",
   "metadata": {},
   "source": [
    "### 7. Write a program that takes a number n as input from the user and generates the first n terms of the series formed by squaring the natural numbers.\n",
    "\n",
    "\n"
   ]
  },
  {
   "cell_type": "code",
   "execution_count": 10,
   "id": "0b0061e2-e4db-456a-b45d-97ebbb04ac61",
   "metadata": {},
   "outputs": [
    {
     "name": "stdin",
     "output_type": "stream",
     "text": [
      "Enter any number:  5\n"
     ]
    },
    {
     "name": "stdout",
     "output_type": "stream",
     "text": [
      "1\n",
      "4\n",
      "9\n",
      "16\n",
      "25\n"
     ]
    }
   ],
   "source": [
    "n = int(input(\"Enter any number: \"))\n",
    "\n",
    "for i in range(1, n + 1):\n",
    "    square = i**2\n",
    "    print(square)"
   ]
  },
  {
   "cell_type": "markdown",
   "id": "1618d089-4e6a-4bcd-b725-ada9dfb7c3d0",
   "metadata": {},
   "source": [
    "### 8. Write a program that prompts the user to input a number and prints its multiplication table.\n"
   ]
  },
  {
   "cell_type": "code",
   "execution_count": 11,
   "id": "63a6b240-c052-48ec-87a8-cd24af76421e",
   "metadata": {},
   "outputs": [
    {
     "name": "stdin",
     "output_type": "stream",
     "text": [
      "Enter Nmuber:  9\n"
     ]
    },
    {
     "name": "stdout",
     "output_type": "stream",
     "text": [
      "9\n",
      "18\n",
      "27\n",
      "36\n",
      "45\n",
      "54\n",
      "63\n",
      "72\n",
      "81\n",
      "90\n"
     ]
    }
   ],
   "source": [
    "num = input(\"Enter Nmuber: \")\n",
    "\n",
    "for i in range(1, 11):\n",
    "    print(int(num) * i)"
   ]
  },
  {
   "cell_type": "markdown",
   "id": "48b6bdf8-4d5f-4852-aef3-97063867fdf6",
   "metadata": {},
   "source": [
    "### 9. Write a Python program to print the first 8 terms of an arithmetic progression starting with 3 and having a common difference of 4. The program should output the following sequence : 3 7 11 15 19 23 27 31\n",
    "\n",
    "\n"
   ]
  },
  {
   "cell_type": "code",
   "execution_count": 12,
   "id": "d7d2af36-0151-48cc-8f17-2493220c717a",
   "metadata": {},
   "outputs": [
    {
     "name": "stdout",
     "output_type": "stream",
     "text": [
      "3 7 11 15 19 23 27 31 "
     ]
    }
   ],
   "source": [
    "init = 3\n",
    "limit = 8\n",
    "difference = 4\n",
    "num_list = []\n",
    "\n",
    "while len(num_list) <  limit:\n",
    "    num_list.append(init)\n",
    "    init += difference\n",
    "    \n",
    "for i in num_list:\n",
    "    print(i, end=\" \")"
   ]
  },
  {
   "cell_type": "markdown",
   "id": "75b949d6-0053-4549-9c52-e70cd5e5f9bd",
   "metadata": {},
   "source": [
    "### 10. Write a Python program to print the first 6 terms of a geometric sequence startingwith 2 and having a common ratio of 3.\n"
   ]
  },
  {
   "cell_type": "code",
   "execution_count": 13,
   "id": "67602fe7-900b-4005-87e7-c3a98010a7f9",
   "metadata": {},
   "outputs": [
    {
     "name": "stdout",
     "output_type": "stream",
     "text": [
      "2 6 18 54 162 486 "
     ]
    }
   ],
   "source": [
    "start = 2\n",
    "ratio = 3\n",
    "terms = 6\n",
    "sequence = []\n",
    "\n",
    "while len(sequence) < terms:\n",
    "    sequence.append(start)\n",
    "    start *= ratio\n",
    "    \n",
    "for i in sequence:\n",
    "    print(i, end=\" \")"
   ]
  },
  {
   "cell_type": "markdown",
   "id": "654be9fb-6f7a-46aa-9bd0-73313fccbdbe",
   "metadata": {},
   "source": [
    "### 11. Write a program that asks the user for a positive integer value. The program should calculate the sum of all the integers from 1 up to the number entered. For example, if the user enters 20, the loop will find the sum of 1, 2, 3, 4, ... 20.\n"
   ]
  },
  {
   "cell_type": "code",
   "execution_count": 14,
   "id": "c8c6bbce-938e-4512-b7db-141fd29c4550",
   "metadata": {},
   "outputs": [
    {
     "name": "stdin",
     "output_type": "stream",
     "text": [
      "Enter Number:  4\n"
     ]
    },
    {
     "name": "stdout",
     "output_type": "stream",
     "text": [
      "10\n"
     ]
    },
    {
     "name": "stdin",
     "output_type": "stream",
     "text": [
      "Enter Number:  5\n"
     ]
    },
    {
     "name": "stdout",
     "output_type": "stream",
     "text": [
      "15\n"
     ]
    }
   ],
   "source": [
    "num = int(input(\"Enter Number: \"))\n",
    "num_list = []\n",
    "for i in range(1, num+1):\n",
    "    num_list.append(i)\n",
    "\n",
    "sum_list = sum(num_list)\n",
    "print(sum_list)\n",
    "\n",
    "# ----------------------------------OR-------------------------------------\n",
    "num = int(input(\"Enter Number: \"))\n",
    "total_sum = 0\n",
    "for i in range(1, num+1):\n",
    "    total_sum += i\n",
    "    \n",
    "print(total_sum)"
   ]
  },
  {
   "cell_type": "markdown",
   "id": "1e22c911-fef2-41e6-a6ec-d7e6718fd339",
   "metadata": {},
   "source": [
    "### 12. write a program that takes a positive integer N as input and calculates the sum of the reciprocals of all numbers from 1 up to N. The program should display the final sum.\n",
    "Output of the program should be like: Enter a positive integer: 5 The sum of reciprocals from 1 to 5 is: 2.28.\n",
    "\n"
   ]
  },
  {
   "cell_type": "code",
   "execution_count": 18,
   "id": "2157dfd7-f0ad-4ad4-b49a-49256635de83",
   "metadata": {},
   "outputs": [
    {
     "name": "stdin",
     "output_type": "stream",
     "text": [
      "Enter Number:  5\n"
     ]
    },
    {
     "name": "stdout",
     "output_type": "stream",
     "text": [
      "2.283333333333333\n"
     ]
    }
   ],
   "source": [
    "num = int(input(\"Enter Number: \"))\n",
    "list_num = []\n",
    "for i in range(1, num+1):\n",
    "    reciprocal = 1/i \n",
    "    list_num.append(reciprocal)\n",
    "    sum_reciprocal = sum(list_num)\n",
    "\n",
    "print(sum_reciprocal)"
   ]
  },
  {
   "cell_type": "markdown",
   "id": "15a0d2dc-5a91-405c-a789-72017a1e97f8",
   "metadata": {},
   "source": [
    "### 13. Write a program that prompts the user to enter a number and repeats this process 5 times. The program should accumulate the numbers entered and then display the final running total.\n",
    "Sample Output: Enter a number: 10 Enter a number: 15 Enter a number: 35 Enter a number: 40 Enter a number: 50 The final running total is: 150\r\n"
   ]
  },
  {
   "cell_type": "code",
   "execution_count": 21,
   "id": "81065735-1d95-4599-87c9-761306919342",
   "metadata": {},
   "outputs": [
    {
     "name": "stdin",
     "output_type": "stream",
     "text": [
      "Enter a Number:  10\n",
      "Enter a Number:  15\n",
      "Enter a Number:  35\n",
      "Enter a Number:  40\n",
      "Enter a Number:  50\n"
     ]
    },
    {
     "name": "stdout",
     "output_type": "stream",
     "text": [
      "150\n"
     ]
    }
   ],
   "source": [
    "count = 0\n",
    "total = 0\n",
    "\n",
    "while count < 5:\n",
    "    num = int(input(\"Enter a Number: \"))\n",
    "    total += num\n",
    "    count += 1\n",
    "print(total)"
   ]
  },
  {
   "cell_type": "markdown",
   "id": "5567bf7a-a03d-4ebe-9834-24840a6a27c0",
   "metadata": {},
   "source": [
    "### 14. Write a program that prompts the user to enter a positive integer and calculates its factorial. The factorial of a positive integer 'n' is denoted as 'n!' and is calculated by multiplying all the integers from 1 to 'n' together. For example, the factorial of 5 (denoted as 5!) is calculated as 1 x 2 x 3 x 4 x 5. The program should display the factorial value if the input is a positive number, or display a message stating that the factorial does not exist for negative numbers. Additionally, for an input of zero, the program should output that the factorial of 0 is 1.\n"
   ]
  },
  {
   "cell_type": "code",
   "execution_count": 22,
   "id": "71ab2acc-4230-476c-a1a9-d378e2cdfcfe",
   "metadata": {},
   "outputs": [
    {
     "name": "stdin",
     "output_type": "stream",
     "text": [
      "Enter a Number:  5\n"
     ]
    },
    {
     "name": "stdout",
     "output_type": "stream",
     "text": [
      "Factorial of 5 is 120\n"
     ]
    }
   ],
   "source": [
    "num = int(input(\"Enter a Number: \"))\n",
    "if num == 0:\n",
    "    print(f\"Factorial of {num} is 1\")\n",
    "    \n",
    "elif num < 0:\n",
    "    print(f\"factorial does not exist for negative numbers\")\n",
    "    \n",
    "else:\n",
    "    factorial =  1\n",
    "    for i in range(1, num + 1):\n",
    "        factorial *= i\n",
    "    print(f\"Factorial of {num} is {factorial}\")\n"
   ]
  },
  {
   "cell_type": "markdown",
   "id": "5e819986-8a41-466e-9ca8-e922df10ea9a",
   "metadata": {},
   "source": [
    "### 15. Write a Python program that prompts the user to enter a base number and an exponent, and then calculates the power of the base to the exponent. The program should not use the exponentiation operator (**) or the math.pow() function. The program should handle both positive and negative exponents.\n"
   ]
  },
  {
   "cell_type": "code",
   "execution_count": 23,
   "id": "dcf7d014-e0cd-4bf6-a715-70b5aeb1c192",
   "metadata": {},
   "outputs": [
    {
     "name": "stdin",
     "output_type": "stream",
     "text": [
      "Enter number for base:  5\n",
      "Enter number for exponent:  2\n"
     ]
    },
    {
     "name": "stdout",
     "output_type": "stream",
     "text": [
      "25.0\n"
     ]
    }
   ],
   "source": [
    "base = float(input(\"Enter number for base: \"))\n",
    "exponent = int(input(\"Enter number for exponent: \"))\n",
    "result = 1\n",
    "if exponent < 0:\n",
    "    pos_exponent = abs(exponent)\n",
    "    for _ in range(pos_exponent):\n",
    "        result *= base\n",
    "    result = 1/result\n",
    "    print(result) \n",
    "else:\n",
    "    for _ in range(exponent):\n",
    "        result*= base\n",
    "\n",
    "    print(result)\n"
   ]
  },
  {
   "cell_type": "code",
   "execution_count": null,
   "id": "f9c8497e-0740-4456-b98b-986b5fe64bbd",
   "metadata": {},
   "outputs": [],
   "source": []
  }
 ],
 "metadata": {
  "kernelspec": {
   "display_name": "Python 3 (ipykernel)",
   "language": "python",
   "name": "python3"
  },
  "language_info": {
   "codemirror_mode": {
    "name": "ipython",
    "version": 3
   },
   "file_extension": ".py",
   "mimetype": "text/x-python",
   "name": "python",
   "nbconvert_exporter": "python",
   "pygments_lexer": "ipython3",
   "version": "3.11.7"
  }
 },
 "nbformat": 4,
 "nbformat_minor": 5
}
