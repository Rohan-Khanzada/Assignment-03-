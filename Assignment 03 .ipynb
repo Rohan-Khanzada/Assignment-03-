{
 "cells": [
  {
   "cell_type": "markdown",
   "id": "db8ec308-9764-452f-aee0-bee27bf03333",
   "metadata": {},
   "source": [
    "### 1. Write a program that accepts a string from user. Your program should count and display number of vowels in that string.\n"
   ]
  },
  {
   "cell_type": "code",
   "execution_count": 4,
   "id": "5cd3faec-66d2-428c-8b27-db7b7205da62",
   "metadata": {},
   "outputs": [
    {
     "name": "stdin",
     "output_type": "stream",
     "text": [
      "Enter The String: \n",
      " aeiou\n"
     ]
    },
    {
     "name": "stdout",
     "output_type": "stream",
     "text": [
      "vowels :  ['a', 'e', 'i', 'o', 'u']\n",
      "Vowels count :  5\n"
     ]
    }
   ],
   "source": [
    "str = input(\"Enter The String: \\n\")\n",
    "vowels = ['a', 'e', 'i', 'o', 'u']\n",
    "result = []\n",
    "for letter in vowels:\n",
    "    if letter in str:\n",
    "        result.append(letter)\n",
    "print('vowels : ', result) \n",
    "print('Vowels count : ', len(result))"
   ]
  },
  {
   "cell_type": "markdown",
   "id": "608d0d2a-d5fe-4a5b-89fb-f9ca008b54b4",
   "metadata": {},
   "source": [
    "### 2. Write a program that reads a string from keyboard and display."
   ]
  },
  {
   "cell_type": "code",
   "execution_count": 7,
   "id": "24374084-4381-46f4-9d62-4f1aac402bca",
   "metadata": {},
   "outputs": [
    {
     "name": "stdin",
     "output_type": "stream",
     "text": [
      "Enter string :\n",
      " Salyani Smit @ 912 Python Class \n"
     ]
    },
    {
     "name": "stdout",
     "output_type": "stream",
     "text": [
      "4\n",
      "18\n",
      "6\n",
      "3\n"
     ]
    }
   ],
   "source": [
    "string = input('Enter string :\\n')\n",
    "uppercase_letter = []\n",
    "lowercase_letter = []\n",
    "whitespaces_letter = []\n",
    "digits = [] \n",
    "for char in string:\n",
    "    if char.isupper():\n",
    "        uppercase_letter.append(char)\n",
    "    if char.islower():\n",
    "        lowercase_letter.append(char)\n",
    "    if char.isspace():\n",
    "        whitespaces_letter.append(char)\n",
    "    if char.isdigit():\n",
    "        digits.append(char)\n",
    "        \n",
    "print(len(uppercase_letter))\n",
    "print(len(lowercase_letter))\n",
    "print(len(whitespaces_letter))\n",
    "print(len(digits))"
   ]
  },
  {
   "cell_type": "markdown",
   "id": "2fc994e6-1b7b-456f-b28b-ad01361b94a0",
   "metadata": {},
   "source": [
    "### Write a Python program that accepts a string from user. Your program should create and display a new string where the first and last characters have been exchanged.\n"
   ]
  },
  {
   "cell_type": "code",
   "execution_count": 9,
   "id": "27b136c9-b040-41a3-b0f0-7f034086d259",
   "metadata": {},
   "outputs": [
    {
     "name": "stdin",
     "output_type": "stream",
     "text": [
      "Enter string:\n",
      " SMIT\n"
     ]
    },
    {
     "name": "stdout",
     "output_type": "stream",
     "text": [
      "TMIS\n"
     ]
    }
   ],
   "source": [
    "str = input('Enter string:\\n')\n",
    "\n",
    "if len(str) < 2:\n",
    "    new_str = str\n",
    "\n",
    "else:\n",
    "    new_str = str[-1] + str[1:-1] + str[0]\n",
    "    \n",
    "print(new_str) \n"
   ]
  },
  {
   "cell_type": "markdown",
   "id": "6c79e4a3-8589-4f95-b951-8573be964072",
   "metadata": {},
   "source": [
    "### 4. Write a Python program that accepts a string from user. Your program should create a new string in reverse of first string and display it. For example if the user enters the string 'EXAM' then new string would be 'MAXE'\r\n",
    "\r\n",
    "\n"
   ]
  },
  {
   "cell_type": "code",
   "execution_count": 10,
   "id": "a9b304ea-a0fd-4903-8927-1e09ae9e2469",
   "metadata": {},
   "outputs": [
    {
     "name": "stdin",
     "output_type": "stream",
     "text": [
      "Enter The String:  EXAM\n"
     ]
    },
    {
     "name": "stdout",
     "output_type": "stream",
     "text": [
      "MAXE\n"
     ]
    }
   ],
   "source": [
    "user_str = input(\"Enter The String: \")\n",
    "\n",
    "result = reverse_str = user_str[::-1]\n",
    "\n",
    "print(result)\n"
   ]
  },
  {
   "cell_type": "markdown",
   "id": "4970a1e1-98e2-4f99-9b93-4478f67c3059",
   "metadata": {},
   "source": [
    "#### 5. Write a Python program that accepts a string from user. Your program should create a new string by shifting one position to left. For example if the user enters the string 'examination 2021' then new string would be 'xamination 2021e'\n",
    "\n",
    "\n"
   ]
  },
  {
   "cell_type": "code",
   "execution_count": 11,
   "id": "1617e605-3107-4e45-a9e7-1beefa03fc19",
   "metadata": {},
   "outputs": [
    {
     "name": "stdin",
     "output_type": "stream",
     "text": [
      "Enter some string:  examination 2021\n"
     ]
    },
    {
     "name": "stdout",
     "output_type": "stream",
     "text": [
      "xamination 2021e\n"
     ]
    }
   ],
   "source": [
    "user_string = input(\"Enter some string: \")\n",
    "\n",
    "if len(user_string) < 1:\n",
    "    new_string = user_string\n",
    "else:\n",
    "    new_string = user_string[1:] + user_string[0] \n",
    "\n",
    "print(new_string) "
   ]
  },
  {
   "cell_type": "markdown",
   "id": "8fda194c-1af1-46d6-b9a1-0b13db7c06c8",
   "metadata": {},
   "source": [
    "### 6. Write a program that asks the user to input his name and print its initials. Assuming that the user always types first name, middle name and last name and does not include any unnecessary spaces.\n"
   ]
  },
  {
   "cell_type": "code",
   "execution_count": 12,
   "id": "55a00b91-6369-4ec9-864c-df3d93a1b425",
   "metadata": {},
   "outputs": [
    {
     "name": "stdin",
     "output_type": "stream",
     "text": [
      "Enter Full name:  Rohan Naeem Khan\n"
     ]
    },
    {
     "name": "stdout",
     "output_type": "stream",
     "text": [
      "Name initials:  R. N. K.\n"
     ]
    }
   ],
   "source": [
    "full_name = input(\"Enter Full name: \")\n",
    "initials = \"\"\n",
    "for i in range(len(full_name)):\n",
    "    if i == 0  or full_name[i-1] == \" \":\n",
    "        initials += full_name[i].upper() + \". \"\n",
    "        \n",
    "print(\"Name initials: \", initials.strip()) "
   ]
  },
  {
   "cell_type": "markdown",
   "id": "ca658671-6281-42cc-80d6-3942cbdea20c",
   "metadata": {},
   "source": [
    "### 7. A palindrome is a string that reads the same backward as forward. For example, the words dad, madam and radar are all palindromes. Write a programs that determines whether the string is a palindrome.\n"
   ]
  },
  {
   "cell_type": "code",
   "execution_count": 15,
   "id": "81f28d16-5b7d-495c-9f39-1eaec325c726",
   "metadata": {},
   "outputs": [
    {
     "name": "stdin",
     "output_type": "stream",
     "text": [
      "Enter String:  RADAR\n"
     ]
    },
    {
     "name": "stdout",
     "output_type": "stream",
     "text": [
      "Palindrome\n",
      "RADAR\n"
     ]
    }
   ],
   "source": [
    "string = input(\"Enter String: \")\n",
    "reversed_string = \"\"\n",
    "reversed_string += string[::-1]\n",
    "if string == reversed_string:\n",
    "    print(\"Palindrome\")\n",
    "else:\n",
    "    print(\"Not palindrome\")\n",
    "    \n",
    "print(reversed_string)"
   ]
  },
  {
   "cell_type": "markdown",
   "id": "662e700f-76ca-4af0-80cc-f698be04e27c",
   "metadata": {},
   "source": [
    "### 8. Write a program that display following output:\n",
    "SHIFT HIFTS IFTSH FTSHI TSHIF SHIFT\n",
    "\n"
   ]
  },
  {
   "cell_type": "code",
   "execution_count": 16,
   "id": "8ba1ea29-e32c-48cc-95b9-c3495774cdf2",
   "metadata": {},
   "outputs": [
    {
     "name": "stdout",
     "output_type": "stream",
     "text": [
      "SHIFT\n",
      "HIFTS\n",
      "IFTSH\n",
      "FTSHI\n",
      "TSHIF\n",
      "SHIFT\n"
     ]
    }
   ],
   "source": [
    "word = \"SHIFT\"\n",
    "for i in range(len(word) + 1):\n",
    "    rotated_word = word[i: ] + word[ :i]   \n",
    "    print(rotated_word)"
   ]
  },
  {
   "cell_type": "markdown",
   "id": "a45a546b-a43a-401c-a333-48c0c0df24a7",
   "metadata": {},
   "source": [
    "### 9. Write a program in python that accepts a string to setup a passwords. Your entered password must meet the following requirements: The password must be at least eight characters long. It must contain at least one uppercase letter. It must contain at least one lowercase letter. It must contain at least one numeric digit. Your program should should perform this validation.\r\n",
    "\r\n",
    "\n"
   ]
  },
  {
   "cell_type": "code",
   "execution_count": 17,
   "id": "3c9fc93a-12f0-430a-a657-79fd2f4a604d",
   "metadata": {},
   "outputs": [
    {
     "name": "stdout",
     "output_type": "stream",
     "text": [
      "The password must be at least eight characters long. \n",
      "It must contain at least one uppercase letter.\n",
      "It must contain at least one lowercase letter.\n",
      "It must contain at least one numeric digit.\n",
      "\"Your program should perform this validation.\"\n"
     ]
    },
    {
     "name": "stdin",
     "output_type": "stream",
     "text": [
      "Enter a password:  Pakistan123!\n"
     ]
    },
    {
     "name": "stdout",
     "output_type": "stream",
     "text": [
      "Password is Valid !!\n"
     ]
    }
   ],
   "source": [
    "print(\"The password must be at least eight characters long. \")\n",
    "print(\"It must contain at least one uppercase letter.\")\n",
    "print(\"It must contain at least one lowercase letter.\")\n",
    "print(\"It must contain at least one numeric digit.\")\n",
    "print(\"\\\"Your program should perform this validation.\\\"\")\n",
    "password = input(\"Enter a password: \")\n",
    "is_valid = True\n",
    "    \n",
    "if len(password) < 8:\n",
    "    is_valid = False\n",
    "    error_message = \"Password must be at least 8 characters long.\"\n",
    "    \n",
    "elif not any(char.isupper() for char in password):\n",
    "    is_valid = False\n",
    "    error_message = \"Password must contain at least one uppercase letter.\"\n",
    "\n",
    "elif not any(char.isdigit() for char in password):\n",
    "    is_valid = False\n",
    "    error_message = \"Password must contain at least one numeric digit.\"\n",
    "    \n",
    "elif not any(char.islower() for char in password):\n",
    "    is_valid = False\n",
    "    error_message = \"Password must contain at least one lowercase letter.\"\n",
    "    \n",
    "if is_valid:\n",
    "    print(\"Password is Valid !!\")\n",
    "else:\n",
    "    print(error_message)\n",
    "    print('Password is invalid. Please try again.')"
   ]
  },
  {
   "cell_type": "code",
   "execution_count": null,
   "id": "bdf0e52c-2b18-4a3a-acc0-b6c89c891c27",
   "metadata": {},
   "outputs": [],
   "source": []
  }
 ],
 "metadata": {
  "kernelspec": {
   "display_name": "Python 3 (ipykernel)",
   "language": "python",
   "name": "python3"
  },
  "language_info": {
   "codemirror_mode": {
    "name": "ipython",
    "version": 3
   },
   "file_extension": ".py",
   "mimetype": "text/x-python",
   "name": "python",
   "nbconvert_exporter": "python",
   "pygments_lexer": "ipython3",
   "version": "3.11.7"
  }
 },
 "nbformat": 4,
 "nbformat_minor": 5
}
